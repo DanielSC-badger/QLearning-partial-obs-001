{
 "cells": [
  {
   "cell_type": "markdown",
   "metadata": {},
   "source": [
    "# Minigrid - Performance Test"
   ]
  },
  {
   "cell_type": "code",
   "execution_count": 1,
   "metadata": {},
   "outputs": [],
   "source": [
    "import numpy as np\n",
    "import gym\n",
    "import gym_minigrid\n",
    "import h5py"
   ]
  },
  {
   "cell_type": "markdown",
   "metadata": {},
   "source": [
    "Read Q-Table from file"
   ]
  },
  {
   "cell_type": "code",
   "execution_count": 2,
   "metadata": {},
   "outputs": [],
   "source": [
    "hf = h5py.File('qTableLavaV3.h5', 'r')\n",
    "qtable=hf['qTableLava'][()]\n",
    "hf.close()"
   ]
  },
  {
   "cell_type": "markdown",
   "metadata": {},
   "source": [
    "Environments to test"
   ]
  },
  {
   "cell_type": "code",
   "execution_count": 3,
   "metadata": {},
   "outputs": [],
   "source": [
    "environments=['MiniGrid-LavaCrossingS9N1-v0','MiniGrid-LavaCrossingS9N2-v0','MiniGrid-LavaCrossingS9N3-v0','MiniGrid-LavaCrossingS11N5-v0']"
   ]
  },
  {
   "cell_type": "markdown",
   "metadata": {},
   "source": [
    "Print the list of the environments name."
   ]
  },
  {
   "cell_type": "code",
   "execution_count": 4,
   "metadata": {},
   "outputs": [
    {
     "name": "stdout",
     "output_type": "stream",
     "text": [
      "MiniGrid-LavaCrossingS9N1-v0\n",
      "MiniGrid-LavaCrossingS9N2-v0\n",
      "MiniGrid-LavaCrossingS9N3-v0\n",
      "MiniGrid-LavaCrossingS11N5-v0\n"
     ]
    }
   ],
   "source": [
    "for n in environments:\n",
    "    print(n)"
   ]
  },
  {
   "cell_type": "code",
   "execution_count": 5,
   "metadata": {},
   "outputs": [],
   "source": [
    "def get_position(observation,action, position):\n",
    "    dir=observation['direction']\n",
    "    x=0;y=0;\n",
    "    nx=position[0]\n",
    "    ny=position[1]\n",
    "    if (action==2): #forward\n",
    "        if (dir==0):\n",
    "            y=1\n",
    "        elif (dir==1):\n",
    "            x=1\n",
    "        elif (dir==2):\n",
    "            y=-1\n",
    "        else:\n",
    "            x=-1\n",
    "        if((nx+x)>=0):\n",
    "            nx+=x\n",
    "        if((ny+y)>=0):\n",
    "            ny+=y\n",
    "    return [nx,ny]"
   ]
  },
  {
   "cell_type": "code",
   "execution_count": 6,
   "metadata": {},
   "outputs": [],
   "source": [
    "def mapping(position, map_list):\n",
    "    nmap=[]\n",
    "    nx=position[0]\n",
    "    ny=position[1]\n",
    "    if not[nx,ny] in map_list:\n",
    "        map_list.append([nx,ny])\n",
    "        nmap=map_list\n",
    "    else:\n",
    "        nmap=map_list\n",
    "    return nmap"
   ]
  },
  {
   "cell_type": "code",
   "execution_count": 7,
   "metadata": {},
   "outputs": [],
   "source": [
    "def pos_visited(position,map_list):\n",
    "    if position in map_list:\n",
    "        return True\n",
    "    else:\n",
    "        return False"
   ]
  },
  {
   "cell_type": "code",
   "execution_count": 8,
   "metadata": {},
   "outputs": [],
   "source": [
    "#Regresa el estado observable expresado de acuerdo a los posibles objetos adelante, a la derecha y a la izquierda\n",
    "def conv_state3(state,vFlag):\n",
    "    num_obj=11 # 11 posibles objetos por casilla = 11 x 11 x 11 = 1331\n",
    "    col=[];row=[]\n",
    "    for c in state:\n",
    "        col=[]\n",
    "        for r in c:\n",
    "            obj=r[0]\n",
    "            col.append(obj)\n",
    "        row.append(col)\n",
    "    front_obj = row[3][5]\n",
    "    right_obj = row[4][6]\n",
    "    left_obj = row[2][6]\n",
    "    state = vFlag * (num_obj**3)+left_obj * (num_obj**2) + front_obj *(num_obj**1) + right_obj *((num_obj**0))\n",
    "    obj_str=list(gym_minigrid.minigrid.OBJECT_TO_IDX.keys())[front_obj]\n",
    "    return row,state,obj_str"
   ]
  },
  {
   "cell_type": "code",
   "execution_count": 9,
   "metadata": {},
   "outputs": [
    {
     "name": "stdout",
     "output_type": "stream",
     "text": [
      "Simulation of  MiniGrid-LavaCrossingS9N1-v0  in progress...\n",
      "Simulation of  MiniGrid-LavaCrossingS9N2-v0  in progress...\n",
      "Simulation of  MiniGrid-LavaCrossingS9N3-v0  in progress...\n",
      "Simulation of  MiniGrid-LavaCrossingS11N5-v0  in progress...\n",
      "Simulations Done.\n",
      "\n",
      "\n",
      "Results:\n",
      "\n",
      "MiniGrid-LavaCrossingS9N1-v0 performance: 73.90 %\n",
      "MiniGrid-LavaCrossingS9N2-v0 performance: 43.30 %\n",
      "MiniGrid-LavaCrossingS9N3-v0 performance: 25.70 %\n",
      "MiniGrid-LavaCrossingS11N5-v0 performance: 11.10 %\n"
     ]
    }
   ],
   "source": [
    "TEST_PER_ENVIRONMENT=1000\n",
    "TEST_STEPS = 100\n",
    "result_actions=[]\n",
    "result_states=[]\n",
    "results={}\n",
    "for e in environments:\n",
    "    results[e]={'actions':[],'states':[],'performance':0}\n",
    "\n",
    "for e in environments:\n",
    "    print(\"Simulation of \",e,\" in progress...\")\n",
    "    success=0\n",
    "    fail=0\n",
    "    for i in range(TEST_PER_ENVIRONMENT):\n",
    "        env = gym.make(e)\n",
    "        cState, state, stateStr = conv_state3(env.reset()['image'],0)\n",
    "        map_grid=[]\n",
    "        position=[0,0]\n",
    "        map_grid.append(position)\n",
    "        actions=[]\n",
    "        states=[]\n",
    "        step_counter=0\n",
    "        for step in range(TEST_STEPS):\n",
    "            action=np.argmax(qtable[state,:])\n",
    "            actions.append(action)\n",
    "\n",
    "            new_state,reward,done,info=env.step(action)\n",
    "\n",
    "            position=get_position(new_state,action,position)     # Calcula la posición\n",
    "            visitedFlag=pos_visited(position,map_grid)\n",
    "\n",
    "            cState, newState, newStr=conv_state3(new_state['image'],visitedFlag)\n",
    "            map_grid=mapping(position,map_grid)                  # mapea el recorrido del agente\n",
    "\n",
    "            states.append(newState)\n",
    "            state=newState\n",
    "            \n",
    "            step_counter+=1\n",
    "            if done == True:\n",
    "                results[e]['actions'].append(actions)\n",
    "                results[e]['states'].append(states)\n",
    "                if(step_counter<TEST_STEPS):\n",
    "                    success+=1\n",
    "                else:\n",
    "                    fail+=1\n",
    "                break\n",
    "    results[e]['performance']=success/TEST_PER_ENVIRONMENT   \n",
    "print(\"Simulations Done.\\n\")\n",
    "print(\"\\nResults:\\n\")\n",
    "for e in environments:\n",
    "    print(e,\"performance: {:.2f} %\".format(results[e]['performance']*100))"
   ]
  },
  {
   "cell_type": "code",
   "execution_count": null,
   "metadata": {},
   "outputs": [],
   "source": []
  }
 ],
 "metadata": {
  "kernelspec": {
   "display_name": "Python 3",
   "language": "python",
   "name": "python3"
  },
  "language_info": {
   "codemirror_mode": {
    "name": "ipython",
    "version": 3
   },
   "file_extension": ".py",
   "mimetype": "text/x-python",
   "name": "python",
   "nbconvert_exporter": "python",
   "pygments_lexer": "ipython3",
   "version": "3.7.9"
  }
 },
 "nbformat": 4,
 "nbformat_minor": 4
}
